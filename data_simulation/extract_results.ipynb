{
 "cells": [
  {
   "cell_type": "code",
   "execution_count": 1,
   "metadata": {
    "execution": {
     "iopub.execute_input": "2022-08-20T23:47:59.821938Z",
     "iopub.status.busy": "2022-08-20T23:47:59.821799Z",
     "iopub.status.idle": "2022-08-20T23:48:07.734672Z",
     "shell.execute_reply": "2022-08-20T23:48:07.734226Z",
     "shell.execute_reply.started": "2022-08-20T23:47:59.821922Z"
    }
   },
   "outputs": [],
   "source": [
    "import pandas as pd\n",
    "import numpy as np\n",
    "import seaborn as sns\n",
    "from matplotlib import pyplot as plt\n",
    "import pickle as pkl\n",
    "import os\n",
    "from sklearn.metrics import roc_curve, auc, precision_recall_curve, f1_score\n",
    "\n",
    "from matplotlib import rcParams\n",
    "rcParams['font.family'] = 'Arial'\n",
    "\n",
    "import sys\n",
    "sys.path.append('./scripts/')\n",
    "import extract_tool_results"
   ]
  },
  {
   "cell_type": "code",
   "execution_count": 6,
   "metadata": {
    "execution": {
     "iopub.execute_input": "2022-08-21T00:00:35.163969Z",
     "iopub.status.busy": "2022-08-21T00:00:35.163690Z",
     "iopub.status.idle": "2022-08-21T00:00:35.168486Z",
     "shell.execute_reply": "2022-08-21T00:00:35.167971Z",
     "shell.execute_reply.started": "2022-08-21T00:00:35.163945Z"
    }
   },
   "outputs": [],
   "source": [
    "# this is only for correcting the labels while plotting\n",
    "tool_name_trans_dic = {\n",
    "    'cc':'CellChat',\n",
    "    'cpdb':'CellPhoneDB',\n",
    "    'italk':'iTALK',\n",
    "    'scr':'SingleCellSignalR',\n",
    "    'natmi':'NATMI',\n",
    "    'icellnet':'ICELLNET',\n",
    "    'nichenet':'NicheNet',\n",
    "    'scmlnet':'scMLnet',\n",
    "    'connectome':'Connectome',\n",
    "    'cytotalk':'CytoTalk',\n",
    "    'cellcall':'CellCall',\n",
    "    'domino':'Domino',\n",
    "    'stlearn':'stLearn',\n",
    "    'cpdb_v3':'CellPhoneDB v3',\n",
    "    'giotto':'Giotto',\n",
    "    'base_line':'LR product'\n",
    "        }\n",
    "\n",
    "def trans_ip_symbol(ip):\n",
    "    ip = ip.split('_')\n",
    "    if len(ip) > 2:\n",
    "        part_b = '({})'.format('+'.join(ip[1:]))\n",
    "    else:\n",
    "        part_b = ip[1]\n",
    "    return '{} - {}'.format(ip[0],part_b)\n"
   ]
  },
  {
   "cell_type": "code",
   "execution_count": null,
   "metadata": {},
   "outputs": [],
   "source": []
  },
  {
   "cell_type": "markdown",
   "metadata": {},
   "source": [
    "# all rounds DES box plot"
   ]
  },
  {
   "cell_type": "code",
   "execution_count": 8,
   "metadata": {
    "execution": {
     "iopub.execute_input": "2022-08-21T00:00:42.069863Z",
     "iopub.status.busy": "2022-08-21T00:00:42.069732Z",
     "iopub.status.idle": "2022-08-21T00:00:42.436460Z",
     "shell.execute_reply": "2022-08-21T00:00:42.436031Z",
     "shell.execute_reply.started": "2022-08-21T00:00:42.069846Z"
    }
   },
   "outputs": [
    {
     "data": {
      "image/png": "[encoded data removed]",
      "text/plain": [
       "<Figure size 180x432 with 1 Axes>"
      ]
     },
     "metadata": {
      "needs_background": "light"
     },
     "output_type": "display_data"
    },
    {
     "name": "stdout",
     "output_type": "stream",
     "text": [
      "LR product          -0.670551\n",
      "CellChat             0.082322\n",
      "CellCall            -0.407765\n",
      "Connectome          -0.469061\n",
      "CellPhoneDB         -0.037059\n",
      "CellPhoneDB v3      -0.537577\n",
      "CytoTalk            -0.702257\n",
      "Domino              -0.583836\n",
      "Giotto              -1.000000\n",
      "ICELLNET             0.038850\n",
      "iTALK               -0.583836\n",
      "NATMI               -0.289946\n",
      "NicheNet            -0.322064\n",
      "scMLnet             -1.000000\n",
      "SingleCellSignalR   -0.279069\n",
      "stLearn             -0.898671\n",
      "dtype: float64\n"
     ]
    }
   ],
   "source": [
    "res_dic_files = [\n",
    "    './simulation_intestine/simulation_round{}/evaluation_result/pkl/tool_ES_dic_sinkhorn2.pkl'.format(i) for i in range(1,6)\n",
    "] + [\n",
    "    './simulation_cortex/simulation_round{}/evaluation_result/pkl/tool_ES_dic_sinkhorn2.pkl'.format(i) for i in range(1,6)\n",
    "] + [\n",
    "    './simulation_PDAC/simulation_round{}/evaluation_result/pkl/tool_ES_dic_sinkhorn2.pkl'.format(i) for i in range(1,6)\n",
    "]\n",
    "\n",
    "out_dir = './data_simulation/all_rounds'\n",
    "\n",
    "res_dic_list = []\n",
    "for tmp_f in res_dic_files:\n",
    "    with open(tmp_f,'rb') as f:\n",
    "        tmp_dic = pkl.load(f)\n",
    "    res_dic_list.append(tmp_dic)\n",
    "\n",
    "# compute & plot DES\n",
    "extract_tool_results.plot_ES_multi_scatter(\n",
    "    res_dic_list, tool_name_trans_dic, \n",
    "    '{}/figure'.format(out_dir),\n",
    "    fontsize=16, fontsize_x=13, title_flag=False,\n",
    "    verbose=True, color_diff=True, fig_save_flag=True, figtail='' \n",
    ")\n",
    "\n",
    "# saving result\n",
    "# if not os.path.exists('{}/pkl/'.format(out_dir)):\n",
    "#     os.makedirs('{}/pkl/'.format(out_dir))\n",
    "\n",
    "# with open('{}/pkl/tool_ES_dic_list.pkl'.format(out_dir),'wb') as f:\n",
    "#     pkl.dump(res_dic_list, f)"
   ]
  },
  {
   "cell_type": "code",
   "execution_count": null,
   "metadata": {},
   "outputs": [],
   "source": []
  }
 ],
 "metadata": {
  "kernelspec": {
   "display_name": "Python 3",
   "language": "python",
   "name": "python3"
  },
  "language_info": {
   "codemirror_mode": {
    "name": "ipython",
    "version": 3
   },
   "file_extension": ".py",
   "mimetype": "text/x-python",
   "name": "python",
   "nbconvert_exporter": "python",
   "pygments_lexer": "ipython3",
   "version": "3.7.3"
  },
  "toc": {
   "base_numbering": 1,
   "nav_menu": {},
   "number_sections": true,
   "sideBar": true,
   "skip_h1_title": false,
   "title_cell": "Table of Contents",
   "title_sidebar": "Contents",
   "toc_cell": false,
   "toc_position": {},
   "toc_section_display": true,
   "toc_window_display": false
  }
 },
 "nbformat": 4,
 "nbformat_minor": 4
}
