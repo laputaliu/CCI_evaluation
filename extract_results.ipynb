{
 "cells": [
  {
   "cell_type": "code",
   "execution_count": 2,
   "metadata": {
    "execution": {
     "iopub.execute_input": "2022-08-15T13:22:47.470325Z",
     "iopub.status.busy": "2022-08-15T13:22:47.470112Z",
     "iopub.status.idle": "2022-08-15T13:22:55.025895Z",
     "shell.execute_reply": "2022-08-15T13:22:55.025358Z",
     "shell.execute_reply.started": "2022-08-15T13:22:47.470306Z"
    }
   },
   "outputs": [],
   "source": [
    "import pandas as pd\n",
    "import numpy as np\n",
    "import seaborn as sns\n",
    "from matplotlib import pyplot as plt\n",
    "import pickle as pkl\n",
    "import os\n",
    "from sklearn.metrics import roc_curve, auc, precision_recall_curve, f1_score\n",
    "\n",
    "from matplotlib import rcParams\n",
    "rcParams['font.family'] = 'Arial'\n",
    "\n",
    "import sys\n",
    "sys.path.append('/fs/home/liuzhaoyang/project/cci_evaluation/scripts/')\n",
    "import extract_tool_results\n",
    "import extract_tool_results_direction"
   ]
  },
  {
   "cell_type": "code",
   "execution_count": 3,
   "metadata": {
    "execution": {
     "iopub.execute_input": "2022-08-15T13:22:56.594190Z",
     "iopub.status.busy": "2022-08-15T13:22:56.594060Z",
     "iopub.status.idle": "2022-08-15T13:22:56.599290Z",
     "shell.execute_reply": "2022-08-15T13:22:56.598918Z",
     "shell.execute_reply.started": "2022-08-15T13:22:56.594173Z"
    }
   },
   "outputs": [
    {
     "data": {
      "text/plain": [
       "<module 'extract_tool_results_direction' from '/fs/home/liuzhaoyang/project/cci_evaluation/scripts/extract_tool_results_direction.py'>"
      ]
     },
     "execution_count": 3,
     "metadata": {},
     "output_type": "execute_result"
    }
   ],
   "source": [
    "from importlib import reload\n",
    "reload(extract_tool_results)\n",
    "reload(extract_tool_results_direction)"
   ]
  },
  {
   "cell_type": "code",
   "execution_count": 4,
   "metadata": {
    "execution": {
     "iopub.execute_input": "2022-08-15T13:22:57.630696Z",
     "iopub.status.busy": "2022-08-15T13:22:57.630578Z",
     "iopub.status.idle": "2022-08-15T13:22:57.634861Z",
     "shell.execute_reply": "2022-08-15T13:22:57.634482Z",
     "shell.execute_reply.started": "2022-08-15T13:22:57.630682Z"
    }
   },
   "outputs": [],
   "source": [
    "tool_name_trans_dic = {\n",
    "    'cc':'CellChat',\n",
    "    'cpdb':'CellPhoneDB',\n",
    "    'italk':'iTALK',\n",
    "    'scr':'SingleCellSignalR',\n",
    "    'natmi':'NATMI',\n",
    "    'icellnet':'ICELLNET',\n",
    "    'nichenet':'NicheNet',\n",
    "    'scmlnet':'scMLnet',\n",
    "    'connectome':'Connectome',\n",
    "    'cytotalk':'CytoTalk',\n",
    "    'cellcall':'CellCall',\n",
    "    'domino':'Domino',\n",
    "    'stlearn':'stLearn',\n",
    "    'cpdb_v3':'CellPhoneDB_v3',\n",
    "    'giotto':'Giotto',\n",
    "    'base_line':'LR product'\n",
    "        }\n",
    "\n",
    "def trans_ip_symbol(ip):\n",
    "    ip = ip.split('_')\n",
    "    if len(ip) > 2:\n",
    "        part_b = '({})'.format('+'.join(ip[1:]))\n",
    "    else:\n",
    "        part_b = ip[1]\n",
    "    return '{} - {}'.format(ip[0],part_b)\n"
   ]
  },
  {
   "cell_type": "code",
   "execution_count": null,
   "metadata": {},
   "outputs": [],
   "source": []
  },
  {
   "cell_type": "markdown",
   "metadata": {},
   "source": [
    "# ST celltype"
   ]
  },
  {
   "cell_type": "code",
   "execution_count": 3,
   "metadata": {
    "execution": {
     "iopub.execute_input": "2022-08-02T17:03:46.765725Z",
     "iopub.status.busy": "2022-08-02T17:03:46.765562Z",
     "iopub.status.idle": "2022-08-02T17:03:46.956540Z",
     "shell.execute_reply": "2022-08-02T17:03:46.956108Z",
     "shell.execute_reply.started": "2022-08-02T17:03:46.765708Z"
    }
   },
   "outputs": [
    {
     "name": "stderr",
     "output_type": "stream",
     "text": [
      "findfont: Font family ['Arial'] not found. Falling back to DejaVu Sans.\n",
      "findfont: Font family ['Arial'] not found. Falling back to DejaVu Sans.\n"
     ]
    },
    {
     "data": {
      "image/png": "[encoded data removed]",
      "text/plain": [
       "<Figure size 360x360 with 1 Axes>"
      ]
     },
     "metadata": {},
     "output_type": "display_data"
    }
   ],
   "source": [
    "data_base_dir = '/fs/home/liuzhaoyang/project/cci_evaluation/human_intestinal/ST_A3_GSM4797918/data'\n",
    "dev_path = '{}/STRIDE/STRIDE_spot_celltype_frac.txt'.format(data_base_dir)\n",
    "coord_path = '{}/processed/st_coord.tsv'.format(data_base_dir)\n",
    "\n",
    "st_pos_df = pd.read_csv(coord_path, sep='\\t', index_col=0)\n",
    "dev_df = pd.read_csv(dev_path, sep='\\t', index_col = 0)\n",
    "\n",
    "max_frac_cts = dev_df.idxmax(axis=1)\n",
    "\n",
    "st_meta_df = pd.DataFrame(max_frac_cts, index = list(dev_df.index),\n",
    "                         columns=['celltype'])\n",
    "\n",
    "extract_tool_results.plot_st_celltype(st_pos_df, st_meta_df, s=35)"
   ]
  },
  {
   "cell_type": "code",
   "execution_count": 9,
   "metadata": {
    "execution": {
     "iopub.execute_input": "2022-07-27T01:36:51.348851Z",
     "iopub.status.busy": "2022-07-27T01:36:51.348593Z",
     "iopub.status.idle": "2022-07-27T01:36:51.525695Z",
     "shell.execute_reply": "2022-07-27T01:36:51.525065Z",
     "shell.execute_reply.started": "2022-07-27T01:36:51.348826Z"
    }
   },
   "outputs": [],
   "source": [
    "st_meta_df.to_csv('{}/processed/st_meta_no_filtering.tsv'.format(data_base_dir),\n",
    "                 sep='\\t', header=None)"
   ]
  },
  {
   "cell_type": "code",
   "execution_count": null,
   "metadata": {},
   "outputs": [],
   "source": []
  },
  {
   "cell_type": "markdown",
   "metadata": {},
   "source": [
    "# compute cell type distance type"
   ]
  },
  {
   "cell_type": "markdown",
   "metadata": {},
   "source": [
    "- define near/far cell-type pair"
   ]
  },
  {
   "cell_type": "code",
   "execution_count": 4,
   "metadata": {
    "execution": {
     "iopub.execute_input": "2022-08-02T17:05:22.680705Z",
     "iopub.status.busy": "2022-08-02T17:05:22.680500Z",
     "iopub.status.idle": "2022-08-02T17:05:22.922152Z",
     "shell.execute_reply": "2022-08-02T17:05:22.921663Z",
     "shell.execute_reply.started": "2022-08-02T17:05:22.680684Z"
    }
   },
   "outputs": [
    {
     "name": "stdout",
     "output_type": "stream",
     "text": [
      "near(0): 12; far(1): 3; mid(2): 6\n"
     ]
    }
   ],
   "source": [
    "project_base_dir = '/fs/home/liuzhaoyang/project/cci_evaluation/human_intestinal/ST_A3_GSM4797918/'\n",
    "\n",
    "\n",
    "meta_path = '{}/data/processed/st_meta.tsv'.format(project_base_dir)\n",
    "coord_path = '{}/data/processed/st_coord.tsv'.format(project_base_dir)\n",
    "pkl_save_dir = '{}/data/pkl'.format(project_base_dir)\n",
    "\n",
    "meta_df = pd.read_csv(meta_path, sep = '\\t', header = None, index_col = 0)\n",
    "meta_df.columns = ['celltype']\n",
    "\n",
    "pos_df = pd.read_csv(coord_path, sep='\\t', index_col=0)\n",
    "\n",
    "\n",
    "##################\n",
    "# cal ct distype #\n",
    "##################\n",
    "\n",
    "avg_dis_sr = extract_tool_results.cal_ct_avg_dis(meta_df, pos_df,nspot_cutoff=0)\n",
    "\n",
    "ct_distype_sr = extract_tool_results.generate_ct_distype(avg_dis_sr)\n",
    "\n",
    "if not os.path.exists(pkl_save_dir):\n",
    "    os.makedirs(pkl_save_dir)\n",
    "\n",
    "with open('{}/ct_avg_dis_sr.pkl'.format(pkl_save_dir),'wb') as f:\n",
    "    pkl.dump(avg_dis_sr, f)\n",
    "with open('{}/ct_distype_sr.pkl'.format(pkl_save_dir),'wb') as f:\n",
    "    pkl.dump(ct_distype_sr, f)"
   ]
  },
  {
   "cell_type": "code",
   "execution_count": 5,
   "metadata": {
    "execution": {
     "iopub.execute_input": "2022-08-02T17:05:26.138068Z",
     "iopub.status.busy": "2022-08-02T17:05:26.137924Z",
     "iopub.status.idle": "2022-08-02T17:05:26.141660Z",
     "shell.execute_reply": "2022-08-02T17:05:26.141230Z",
     "shell.execute_reply.started": "2022-08-02T17:05:26.138050Z"
    }
   },
   "outputs": [
    {
     "data": {
      "text/plain": [
       "Muscle|Neural                            0\n",
       "Muscle|Fibroblasts                       0\n",
       "Muscle|Epithelial                        2\n",
       "Muscle|Endothelial                       0\n",
       "Muscle|Pericytes                         2\n",
       "Muscle|Myofibroblast_Mesothelium         0\n",
       "Neural|Fibroblasts                       0\n",
       "Neural|Epithelial                        2\n",
       "Neural|Endothelial                       0\n",
       "Neural|Pericytes                         1\n",
       "Neural|Myofibroblast_Mesothelium         0\n",
       "Fibroblasts|Epithelial                   0\n",
       "Fibroblasts|Endothelial                  0\n",
       "Fibroblasts|Pericytes                    2\n",
       "Fibroblasts|Myofibroblast_Mesothelium    0\n",
       "Epithelial|Endothelial                   2\n",
       "Epithelial|Pericytes                     1\n",
       "Epithelial|Myofibroblast_Mesothelium     0\n",
       "Endothelial|Pericytes                    2\n",
       "Endothelial|Myofibroblast_Mesothelium    0\n",
       "Pericytes|Myofibroblast_Mesothelium      1\n",
       "dtype: int64"
      ]
     },
     "execution_count": 5,
     "metadata": {},
     "output_type": "execute_result"
    }
   ],
   "source": [
    "ct_distype_sr"
   ]
  },
  {
   "cell_type": "code",
   "execution_count": null,
   "metadata": {},
   "outputs": [],
   "source": []
  },
  {
   "cell_type": "markdown",
   "metadata": {},
   "source": [
    "## compute & plot DES"
   ]
  },
  {
   "cell_type": "code",
   "execution_count": 21,
   "metadata": {
    "execution": {
     "iopub.execute_input": "2022-08-08T16:17:39.052107Z",
     "iopub.status.busy": "2022-08-08T16:17:39.051981Z",
     "iopub.status.idle": "2022-08-08T16:17:41.358412Z",
     "shell.execute_reply": "2022-08-08T16:17:41.358002Z",
     "shell.execute_reply.started": "2022-08-08T16:17:39.052091Z"
    }
   },
   "outputs": [
    {
     "name": "stdout",
     "output_type": "stream",
     "text": [
      "cc\n",
      "cpdb\n",
      "scr\n",
      "natmi\n",
      "icellnet\n",
      "italk\n",
      "nichenet\n",
      "scmlnet\n",
      "connectome\n",
      "cytotalk\n",
      "cellcall\n",
      "domino\n",
      "stlearn\n",
      "cpdb_v3\n",
      "giotto\n",
      "base_line\n"
     ]
    },
    {
     "data": {
      "image/png": "[encoded data removed]",
      "text/plain": [
       "<Figure size 180x432 with 1 Axes>"
      ]
     },
     "metadata": {
      "needs_background": "light"
     },
     "output_type": "display_data"
    }
   ],
   "source": [
    "project_base_dirs = [\n",
    "    '/fs/home/liuzhaoyang/project/cci_evaluation/human_intestinal/ST_A3_GSM4797918/'\n",
    "]\n",
    "\n",
    "tool_list = [\n",
    "    'cc', 'cpdb', 'scr', 'natmi', 'icellnet', 'italk',\n",
    "    'nichenet', 'scmlnet', 'connectome', 'cytotalk', 'cellcall',\n",
    "    'domino', 'stlearn', 'cpdb_v3', 'giotto', 'base_line'\n",
    "]\n",
    "\n",
    "for project_base_dir in project_base_dirs:\n",
    "    \n",
    "    tool_res_dic = extract_tool_results.extract_tool_res_dic(\n",
    "        project_base_dir, tool_list,\n",
    "        verbose=False\n",
    "    )\n",
    "    \n",
    "    d_rat_df = pd.read_csv('{}/data/ip_dis_sinkhorn2/ip_distance_all.tsv'.format(project_base_dir),\n",
    "                          sep='\\t', index_col = 0)\n",
    "\n",
    "    with open('{}/evaluation_result/pkl/tool_res_dic.pkl'.format(project_base_dir), 'rb') as f:\n",
    "        tool_res_dic = pkl.load(f)\n",
    "    with open('{}/data/pkl/ct_distype_sr.pkl'.format(project_base_dir), 'rb') as f:\n",
    "        ct_distype_sr = pkl.load(f)\n",
    "    \n",
    "    extract_tool_results.plot_es_workflow(\n",
    "        d_rat_df,\n",
    "        tool_res_dic,\n",
    "        ct_distype_sr,\n",
    "        tool_name_trans_dic,\n",
    "        '{}/evaluation_result/figure'.format(project_base_dir),\n",
    "        '{}/evaluation_result/pkl'.format(project_base_dir), \n",
    "        fig_save_flag=True, pkl_save_flag=True, save_tail_name='',\n",
    "        verbose=False,\n",
    "        color_diff=True,\n",
    "    )    \n"
   ]
  },
  {
   "cell_type": "code",
   "execution_count": null,
   "metadata": {},
   "outputs": [],
   "source": []
  },
  {
   "cell_type": "code",
   "execution_count": null,
   "metadata": {},
   "outputs": [],
   "source": []
  },
  {
   "cell_type": "code",
   "execution_count": 22,
   "metadata": {
    "execution": {
     "iopub.execute_input": "2022-08-08T16:17:52.185218Z",
     "iopub.status.busy": "2022-08-08T16:17:52.185015Z",
     "iopub.status.idle": "2022-08-08T16:17:52.193290Z",
     "shell.execute_reply": "2022-08-08T16:17:52.192957Z",
     "shell.execute_reply.started": "2022-08-08T16:17:52.185200Z"
    }
   },
   "outputs": [
    {
     "name": "stdout",
     "output_type": "stream",
     "text": [
      "cc 132.57142857142858\n",
      "cpdb 19.238095238095237\n",
      "scr 449.76190476190476\n",
      "natmi 11.857142857142858\n",
      "icellnet 125.85714285714286\n",
      "italk 50.285714285714285\n",
      "nichenet 54.23809523809524\n",
      "scmlnet 39.714285714285715\n",
      "connectome 22.714285714285715\n",
      "cytotalk 9.857142857142858\n",
      "cellcall 7.0476190476190474\n",
      "domino 20.19047619047619\n",
      "stlearn 11.476190476190476\n",
      "cpdb_v3 11.523809523809524\n",
      "giotto 12.19047619047619\n",
      "base_line 19.0\n"
     ]
    }
   ],
   "source": [
    "with open('{}/evaluation_result/pkl/tool_res_dic.pkl'.format(project_base_dirs[0]), 'rb') as f:\n",
    "    tool_res_dic = pkl.load(f)\n",
    "\n",
    "tool_n_list = []\n",
    "for tool in tool_res_dic:\n",
    "#     if tool == 'base_line':\n",
    "#         continue\n",
    "    n_list = []\n",
    "    for ctp in tool_res_dic[tool]:\n",
    "        n_list.append(len(tool_res_dic[tool][ctp]))\n",
    "    tool_n_list.append(np.mean(n_list))\n",
    "    print(tool, np.mean(n_list))\n"
   ]
  },
  {
   "cell_type": "code",
   "execution_count": 6,
   "metadata": {
    "execution": {
     "iopub.execute_input": "2022-08-08T16:12:17.392668Z",
     "iopub.status.busy": "2022-08-08T16:12:17.392521Z",
     "iopub.status.idle": "2022-08-08T16:12:17.396834Z",
     "shell.execute_reply": "2022-08-08T16:12:17.395761Z",
     "shell.execute_reply.started": "2022-08-08T16:12:17.392653Z"
    }
   },
   "outputs": [
    {
     "data": {
      "text/plain": [
       "20.19047619047619"
      ]
     },
     "execution_count": 6,
     "metadata": {},
     "output_type": "execute_result"
    }
   ],
   "source": [
    "np.median(tool_n_list)"
   ]
  },
  {
   "cell_type": "code",
   "execution_count": null,
   "metadata": {},
   "outputs": [],
   "source": []
  },
  {
   "cell_type": "code",
   "execution_count": 5,
   "metadata": {
    "execution": {
     "iopub.execute_input": "2022-08-15T13:23:05.416643Z",
     "iopub.status.busy": "2022-08-15T13:23:05.416429Z",
     "iopub.status.idle": "2022-08-15T13:23:09.404256Z",
     "shell.execute_reply": "2022-08-15T13:23:09.403698Z",
     "shell.execute_reply.started": "2022-08-15T13:23:05.416624Z"
    }
   },
   "outputs": [],
   "source": [
    "project_base_dirs = [\n",
    "    '/fs/home/liuzhaoyang/project/cci_evaluation/human_intestinal/ST_A3_GSM4797918/'\n",
    "]\n",
    "\n",
    "tool_list = [\n",
    "    'cc', 'cpdb', 'scr', 'natmi', 'icellnet', 'italk',\n",
    "    'nichenet', 'scmlnet', 'connectome', 'cytotalk', 'cellcall',\n",
    "    'domino', 'stlearn', 'cpdb_v3', 'giotto', 'base_line'\n",
    "]\n",
    "\n",
    "for project_base_dir in project_base_dirs:\n",
    "    \n",
    "    tool_res_dic = extract_tool_results_direction.extract_tool_res_dic_direct(\n",
    "        project_base_dir, tool_list,\n",
    "        verbose=False\n",
    "    )\n"
   ]
  },
  {
   "cell_type": "code",
   "execution_count": null,
   "metadata": {},
   "outputs": [],
   "source": []
  }
 ],
 "metadata": {
  "kernelspec": {
   "display_name": "Python 3",
   "language": "python",
   "name": "python3"
  },
  "language_info": {
   "codemirror_mode": {
    "name": "ipython",
    "version": 3
   },
   "file_extension": ".py",
   "mimetype": "text/x-python",
   "name": "python",
   "nbconvert_exporter": "python",
   "pygments_lexer": "ipython3",
   "version": "3.8.3"
  }
 },
 "nbformat": 4,
 "nbformat_minor": 4
}
