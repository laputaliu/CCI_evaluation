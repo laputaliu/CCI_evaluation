{
 "cells": [
  {
   "cell_type": "markdown",
   "metadata": {},
   "source": [
    "# Example pipeline using sample A3 in human intestine dataset"
   ]
  },
  {
   "cell_type": "markdown",
   "metadata": {},
   "source": [
    "## packages"
   ]
  },
  {
   "cell_type": "code",
   "execution_count": 3,
   "metadata": {
    "ExecuteTime": {
     "end_time": "2022-08-26T10:21:43.245169Z",
     "start_time": "2022-08-26T10:21:43.238734Z"
    },
    "execution": {
     "iopub.execute_input": "2022-08-15T13:22:47.470325Z",
     "iopub.status.busy": "2022-08-15T13:22:47.470112Z",
     "iopub.status.idle": "2022-08-15T13:22:55.025895Z",
     "shell.execute_reply": "2022-08-15T13:22:55.025358Z",
     "shell.execute_reply.started": "2022-08-15T13:22:47.470306Z"
    }
   },
   "outputs": [],
   "source": [
    "import pandas as pd\n",
    "import numpy as np\n",
    "import seaborn as sns\n",
    "from matplotlib import pyplot as plt\n",
    "import pickle as pkl\n",
    "import os\n",
    "\n",
    "from matplotlib import rcParams\n",
    "rcParams['font.family'] = 'Arial'\n",
    "\n",
    "\n",
    "import sys\n",
    "sys.path.append('./scripts/')\n",
    "import extract_tool_results"
   ]
  },
  {
   "cell_type": "code",
   "execution_count": 4,
   "metadata": {
    "ExecuteTime": {
     "end_time": "2022-08-26T10:21:52.337030Z",
     "start_time": "2022-08-26T10:21:52.317268Z"
    },
    "execution": {
     "iopub.execute_input": "2022-08-15T13:22:57.630696Z",
     "iopub.status.busy": "2022-08-15T13:22:57.630578Z",
     "iopub.status.idle": "2022-08-15T13:22:57.634861Z",
     "shell.execute_reply": "2022-08-15T13:22:57.634482Z",
     "shell.execute_reply.started": "2022-08-15T13:22:57.630682Z"
    }
   },
   "outputs": [],
   "source": [
    "# it is only for correcting the labels while plotting\n",
    "tool_name_trans_dic = {\n",
    "    'cc':'CellChat',\n",
    "    'cpdb':'CellPhoneDB',\n",
    "    'italk':'iTALK',\n",
    "    'scr':'SingleCellSignalR',\n",
    "    'natmi':'NATMI',\n",
    "    'icellnet':'ICELLNET',\n",
    "    'nichenet':'NicheNet',\n",
    "    'scmlnet':'scMLnet',\n",
    "    'connectome':'Connectome',\n",
    "    'cytotalk':'CytoTalk',\n",
    "    'cellcall':'CellCall',\n",
    "    'domino':'Domino',\n",
    "    'stlearn':'stLearn',\n",
    "    'cpdb_v3':'CellPhoneDB_v3',\n",
    "    'giotto':'Giotto',\n",
    "    'base_line':'LR product'\n",
    "        }\n",
    "\n",
    "def trans_ip_symbol(ip):\n",
    "    ip = ip.split('_')\n",
    "    if len(ip) > 2:\n",
    "        part_b = '({})'.format('+'.join(ip[1:]))\n",
    "    else:\n",
    "        part_b = ip[1]\n",
    "    return '{} - {}'.format(ip[0],part_b)\n"
   ]
  },
  {
   "cell_type": "code",
   "execution_count": null,
   "metadata": {},
   "outputs": [],
   "source": []
  },
  {
   "cell_type": "markdown",
   "metadata": {},
   "source": [
    "## Step 0: prepare directory and scripts"
   ]
  },
  {
   "cell_type": "markdown",
   "metadata": {},
   "source": [
    "- for preparing the dirs and scripts for running CCI tools, you can use the script below"
   ]
  },
  {
   "cell_type": "code",
   "execution_count": null,
   "metadata": {},
   "outputs": [],
   "source": [
    "python ./scripts/prepare_dir_script.py --sc_norm ./ST_A3_GSM4797918/data/processed/sc_norm.tsv --sc_count ./ST_A3_GSM4797918/data/processed/sc_counts.tsv --sc_meta ./ST_A3_GSM4797918/data/processed/sc_meta.tsv --deconv ./ST_A3_GSM4797918/data/STRIDE/STRIDE_spot_celltype_frac.txt --st_count ./ST_A3_GSM4797918/data/processed/st_counts.tsv --st_coord ./ST_A3_GSM4797918/data/processed/st_coord.tsv --st_meta ./ST_A3_GSM4797918/data/processed/st_meta.tsv --output_dir ./ST_A3_GSM4797918/tools\n"
   ]
  },
  {
   "cell_type": "markdown",
   "metadata": {},
   "source": [
    "- these codes will generate the dirs for each tool like below, and you can find the example running script in the `script` dir in each tool's dir  \n",
    "\n",
    "\n",
    "- tools\n",
    "    - CellCall\n",
    "        - output\n",
    "        - script\n",
    "            - submit_cellcall.sh"
   ]
  },
  {
   "cell_type": "code",
   "execution_count": null,
   "metadata": {},
   "outputs": [],
   "source": []
  },
  {
   "cell_type": "markdown",
   "metadata": {},
   "source": [
    "## Step 1: compute the d_rat and P-value for LR pairs using ST data"
   ]
  },
  {
   "cell_type": "markdown",
   "metadata": {},
   "source": [
    "- codes for submit computing"
   ]
  },
  {
   "cell_type": "code",
   "execution_count": null,
   "metadata": {},
   "outputs": [],
   "source": [
    "cd ./ST_A3_GSM4797918/data/ip_dis_sinkhorn2 && nohup python /fs/home/liuzhaoyang/project/cci_evaluation/scripts/prepare_ip_dis_sinkhorn2.py -c ../processed/st_counts.tsv -p ../processed/st_coord.tsv -o ./ &"
   ]
  },
  {
   "cell_type": "markdown",
   "metadata": {},
   "source": [
    "- the results of the d_rat and P-value for LR pairs in the sample A3 can be found at `./example_data/ST_A3_GSM4797918/data/ip_dis_sinkhorn2/ip_distance_all.tsv`"
   ]
  },
  {
   "cell_type": "markdown",
   "metadata": {},
   "source": [
    "- example of ip_distance_all.tsv"
   ]
  },
  {
   "cell_type": "code",
   "execution_count": 5,
   "metadata": {
    "ExecuteTime": {
     "end_time": "2022-08-26T10:21:57.253058Z",
     "start_time": "2022-08-26T10:21:57.149567Z"
    }
   },
   "outputs": [
    {
     "data": {
      "text/html": [
       "<div>\n",
       "<style scoped>\n",
       "    .dataframe tbody tr th:only-of-type {\n",
       "        vertical-align: middle;\n",
       "    }\n",
       "\n",
       "    .dataframe tbody tr th {\n",
       "        vertical-align: top;\n",
       "    }\n",
       "\n",
       "    .dataframe thead th {\n",
       "        text-align: right;\n",
       "    }\n",
       "</style>\n",
       "<table border=\"1\" class=\"dataframe\">\n",
       "  <thead>\n",
       "    <tr style=\"text-align: right;\">\n",
       "      <th></th>\n",
       "      <th>d_ori</th>\n",
       "      <th>d_shu</th>\n",
       "      <th>d_rat</th>\n",
       "      <th>p_val</th>\n",
       "      <th>pathway</th>\n",
       "      <th>ip_type</th>\n",
       "    </tr>\n",
       "    <tr>\n",
       "      <th>ip</th>\n",
       "      <th></th>\n",
       "      <th></th>\n",
       "      <th></th>\n",
       "      <th></th>\n",
       "      <th></th>\n",
       "      <th></th>\n",
       "    </tr>\n",
       "  </thead>\n",
       "  <tbody>\n",
       "    <tr>\n",
       "      <th>COL1A1 - CD44</th>\n",
       "      <td>157.858325</td>\n",
       "      <td>196.208731</td>\n",
       "      <td>0.804543</td>\n",
       "      <td>0.0</td>\n",
       "      <td>COLLAGEN</td>\n",
       "      <td>ECM-Receptor</td>\n",
       "    </tr>\n",
       "    <tr>\n",
       "      <th>SEMA3B - (NRP1+PLXNA3)</th>\n",
       "      <td>23.301063</td>\n",
       "      <td>12.901895</td>\n",
       "      <td>1.806019</td>\n",
       "      <td>0.0</td>\n",
       "      <td>SEMA3</td>\n",
       "      <td>Secreted Signaling</td>\n",
       "    </tr>\n",
       "    <tr>\n",
       "      <th>THBS4 - ITGA3</th>\n",
       "      <td>7.419997</td>\n",
       "      <td>4.239348</td>\n",
       "      <td>1.750269</td>\n",
       "      <td>0.0</td>\n",
       "      <td>THBS</td>\n",
       "      <td>ECM-Receptor</td>\n",
       "    </tr>\n",
       "    <tr>\n",
       "      <th>THBS4 - ITGB1</th>\n",
       "      <td>80.699676</td>\n",
       "      <td>56.462736</td>\n",
       "      <td>1.429256</td>\n",
       "      <td>0.0</td>\n",
       "      <td>THBS</td>\n",
       "      <td>ECM-Receptor</td>\n",
       "    </tr>\n",
       "    <tr>\n",
       "      <th>EFNA1 - EPHA7</th>\n",
       "      <td>81.556194</td>\n",
       "      <td>42.543582</td>\n",
       "      <td>1.917003</td>\n",
       "      <td>0.0</td>\n",
       "      <td>EPHA</td>\n",
       "      <td>Cell-Cell Contact</td>\n",
       "    </tr>\n",
       "  </tbody>\n",
       "</table>\n",
       "</div>"
      ],
      "text/plain": [
       "                             d_ori       d_shu     d_rat  p_val   pathway  \\\n",
       "ip                                                                          \n",
       "COL1A1 - CD44           157.858325  196.208731  0.804543    0.0  COLLAGEN   \n",
       "SEMA3B - (NRP1+PLXNA3)   23.301063   12.901895  1.806019    0.0     SEMA3   \n",
       "THBS4 - ITGA3             7.419997    4.239348  1.750269    0.0      THBS   \n",
       "THBS4 - ITGB1            80.699676   56.462736  1.429256    0.0      THBS   \n",
       "EFNA1 - EPHA7            81.556194   42.543582  1.917003    0.0      EPHA   \n",
       "\n",
       "                                   ip_type  \n",
       "ip                                          \n",
       "COL1A1 - CD44                 ECM-Receptor  \n",
       "SEMA3B - (NRP1+PLXNA3)  Secreted Signaling  \n",
       "THBS4 - ITGA3                 ECM-Receptor  \n",
       "THBS4 - ITGB1                 ECM-Receptor  \n",
       "EFNA1 - EPHA7            Cell-Cell Contact  "
      ]
     },
     "execution_count": 5,
     "metadata": {},
     "output_type": "execute_result"
    }
   ],
   "source": [
    "d_rat_df = pd.read_csv('./example_data/ST_A3_GSM4797918/data/ip_dis_sinkhorn2/ip_distance_all.tsv',\n",
    "                      sep='\\t', index_col=0)\n",
    "d_rat_df.head()"
   ]
  },
  {
   "cell_type": "code",
   "execution_count": null,
   "metadata": {},
   "outputs": [],
   "source": []
  },
  {
   "cell_type": "markdown",
   "metadata": {},
   "source": [
    "## Step 2: running CCI tools"
   ]
  },
  {
   "cell_type": "markdown",
   "metadata": {},
   "source": [
    "- you can use your own running scripts or our example scripts to run CCI tools.\n",
    "- if you follow our workflow to run the CCI tools, you can use the script below to extract results. Or you can simply load our processed result dictionary."
   ]
  },
  {
   "cell_type": "markdown",
   "metadata": {},
   "source": [
    "### extract tool results"
   ]
  },
  {
   "cell_type": "code",
   "execution_count": null,
   "metadata": {},
   "outputs": [],
   "source": [
    "project_base_dirs = [\n",
    "    './example_data/ST_A3_GSM4797918/'\n",
    "]\n",
    "\n",
    "tool_list = [\n",
    "    'cc', 'cpdb', 'scr', 'natmi', 'icellnet', 'italk',\n",
    "    'nichenet', 'scmlnet', 'connectome', 'cytotalk', 'cellcall',\n",
    "    'domino', 'stlearn', 'cpdb_v3', 'giotto', 'base_line'\n",
    "]\n",
    "\n",
    "for project_base_dir in project_base_dirs:\n",
    "    \n",
    "    tool_res_dic = extract_tool_results.extract_tool_res_dic(\n",
    "        project_base_dir, tool_list,\n",
    "        verbose=False\n",
    "    )\n"
   ]
  },
  {
   "cell_type": "markdown",
   "metadata": {},
   "source": [
    "- Or you can simply load the tool_res_dic using codes below"
   ]
  },
  {
   "cell_type": "code",
   "execution_count": null,
   "metadata": {},
   "outputs": [],
   "source": [
    "with open('./example_data/ST_A3_GSM4797918/evaluation_result/pkl/tool_res_dic.pkl', 'rb') as f:\n",
    "    tool_res_dic = pkl.load(f)"
   ]
  },
  {
   "cell_type": "code",
   "execution_count": null,
   "metadata": {},
   "outputs": [],
   "source": []
  },
  {
   "cell_type": "markdown",
   "metadata": {},
   "source": [
    "## Step 3: calculating distance enrichment score (DES)"
   ]
  },
  {
   "cell_type": "markdown",
   "metadata": {},
   "source": [
    "### Define near/far cell type pairs"
   ]
  },
  {
   "cell_type": "markdown",
   "metadata": {},
   "source": [
    "#### ST celltype of sample A3"
   ]
  },
  {
   "cell_type": "code",
   "execution_count": 9,
   "metadata": {
    "ExecuteTime": {
     "end_time": "2022-08-26T13:17:58.073996Z",
     "start_time": "2022-08-26T13:17:57.713092Z"
    }
   },
   "outputs": [
    {
     "data": {
      "image/png": "[encoded data removed]",
      "text/plain": [
       "<Figure size 360x360 with 1 Axes>"
      ]
     },
     "metadata": {},
     "output_type": "display_data"
    }
   ],
   "source": [
    "# using deconvolution fraction matrix and ST coordinates as input\n",
    "data_base_dir = './example_data/ST_A3_GSM4797918/data'\n",
    "dev_path = '{}/STRIDE/STRIDE_spot_celltype_frac.txt'.format(data_base_dir)\n",
    "coord_path = '{}/processed/st_coord.tsv'.format(data_base_dir)\n",
    "\n",
    "st_pos_df = pd.read_csv(coord_path, sep='\\t', index_col=0)\n",
    "dev_df = pd.read_csv(dev_path, sep='\\t', index_col = 0)\n",
    "\n",
    "max_frac_cts = dev_df.idxmax(axis=1)\n",
    "\n",
    "st_meta_df = pd.DataFrame(max_frac_cts, index = list(dev_df.index),\n",
    "                         columns=['celltype'])\n",
    "\n",
    "extract_tool_results.plot_st_celltype(st_pos_df, st_meta_df, s=35)"
   ]
  },
  {
   "cell_type": "code",
   "execution_count": 9,
   "metadata": {
    "execution": {
     "iopub.execute_input": "2022-07-27T01:36:51.348851Z",
     "iopub.status.busy": "2022-07-27T01:36:51.348593Z",
     "iopub.status.idle": "2022-07-27T01:36:51.525695Z",
     "shell.execute_reply": "2022-07-27T01:36:51.525065Z",
     "shell.execute_reply.started": "2022-07-27T01:36:51.348826Z"
    }
   },
   "outputs": [],
   "source": [
    "# save the st_meta\n",
    "st_meta_df.to_csv('{}/processed/st_meta_no_filtering.tsv'.format(data_base_dir),\n",
    "                 sep='\\t', header=None)"
   ]
  },
  {
   "cell_type": "code",
   "execution_count": null,
   "metadata": {},
   "outputs": [],
   "source": []
  },
  {
   "cell_type": "markdown",
   "metadata": {},
   "source": [
    "#### compute cell type distance type"
   ]
  },
  {
   "cell_type": "markdown",
   "metadata": {},
   "source": [
    "- define near/far cell-type pair"
   ]
  },
  {
   "cell_type": "code",
   "execution_count": 4,
   "metadata": {
    "execution": {
     "iopub.execute_input": "2022-08-02T17:05:22.680705Z",
     "iopub.status.busy": "2022-08-02T17:05:22.680500Z",
     "iopub.status.idle": "2022-08-02T17:05:22.922152Z",
     "shell.execute_reply": "2022-08-02T17:05:22.921663Z",
     "shell.execute_reply.started": "2022-08-02T17:05:22.680684Z"
    }
   },
   "outputs": [
    {
     "name": "stdout",
     "output_type": "stream",
     "text": [
      "near(0): 12; far(1): 3; mid(2): 6\n"
     ]
    }
   ],
   "source": [
    "project_base_dir = './example_data/ST_A3_GSM4797918/'\n",
    "\n",
    "meta_path = '{}/data/processed/st_meta.tsv'.format(project_base_dir)\n",
    "coord_path = '{}/data/processed/st_coord.tsv'.format(project_base_dir)\n",
    "pkl_save_dir = '{}/data/pkl'.format(project_base_dir)\n",
    "\n",
    "meta_df = pd.read_csv(meta_path, sep = '\\t', header = None, index_col = 0)\n",
    "meta_df.columns = ['celltype']\n",
    "\n",
    "pos_df = pd.read_csv(coord_path, sep='\\t', index_col=0)\n",
    "\n",
    "\n",
    "##################\n",
    "# cal ct distype #\n",
    "##################\n",
    "\n",
    "avg_dis_sr = extract_tool_results.cal_ct_avg_dis(meta_df, pos_df,nspot_cutoff=0)\n",
    "\n",
    "ct_distype_sr = extract_tool_results.generate_ct_distype(avg_dis_sr)\n",
    "\n",
    "# saving result\n",
    "if not os.path.exists(pkl_save_dir):\n",
    "    os.makedirs(pkl_save_dir)\n",
    "\n",
    "with open('{}/ct_avg_dis_sr.pkl'.format(pkl_save_dir),'wb') as f:\n",
    "    pkl.dump(avg_dis_sr, f)\n",
    "with open('{}/ct_distype_sr.pkl'.format(pkl_save_dir),'wb') as f:\n",
    "    pkl.dump(ct_distype_sr, f)"
   ]
  },
  {
   "cell_type": "markdown",
   "metadata": {},
   "source": [
    "- `0` for the near cell type pairs, `1` for the far cell type pair"
   ]
  },
  {
   "cell_type": "code",
   "execution_count": 5,
   "metadata": {
    "execution": {
     "iopub.execute_input": "2022-08-02T17:05:26.138068Z",
     "iopub.status.busy": "2022-08-02T17:05:26.137924Z",
     "iopub.status.idle": "2022-08-02T17:05:26.141660Z",
     "shell.execute_reply": "2022-08-02T17:05:26.141230Z",
     "shell.execute_reply.started": "2022-08-02T17:05:26.138050Z"
    }
   },
   "outputs": [
    {
     "data": {
      "text/plain": [
       "Muscle|Neural                            0\n",
       "Muscle|Fibroblasts                       0\n",
       "Muscle|Epithelial                        2\n",
       "Muscle|Endothelial                       0\n",
       "Muscle|Pericytes                         2\n",
       "Muscle|Myofibroblast_Mesothelium         0\n",
       "Neural|Fibroblasts                       0\n",
       "Neural|Epithelial                        2\n",
       "Neural|Endothelial                       0\n",
       "Neural|Pericytes                         1\n",
       "Neural|Myofibroblast_Mesothelium         0\n",
       "Fibroblasts|Epithelial                   0\n",
       "Fibroblasts|Endothelial                  0\n",
       "Fibroblasts|Pericytes                    2\n",
       "Fibroblasts|Myofibroblast_Mesothelium    0\n",
       "Epithelial|Endothelial                   2\n",
       "Epithelial|Pericytes                     1\n",
       "Epithelial|Myofibroblast_Mesothelium     0\n",
       "Endothelial|Pericytes                    2\n",
       "Endothelial|Myofibroblast_Mesothelium    0\n",
       "Pericytes|Myofibroblast_Mesothelium      1\n",
       "dtype: int64"
      ]
     },
     "execution_count": 5,
     "metadata": {},
     "output_type": "execute_result"
    }
   ],
   "source": [
    "ct_distype_sr"
   ]
  },
  {
   "cell_type": "code",
   "execution_count": null,
   "metadata": {},
   "outputs": [],
   "source": []
  },
  {
   "cell_type": "markdown",
   "metadata": {},
   "source": [
    "### compute & plot DES"
   ]
  },
  {
   "cell_type": "code",
   "execution_count": 21,
   "metadata": {
    "execution": {
     "iopub.execute_input": "2022-08-08T16:17:39.052107Z",
     "iopub.status.busy": "2022-08-08T16:17:39.051981Z",
     "iopub.status.idle": "2022-08-08T16:17:41.358412Z",
     "shell.execute_reply": "2022-08-08T16:17:41.358002Z",
     "shell.execute_reply.started": "2022-08-08T16:17:39.052091Z"
    }
   },
   "outputs": [
    {
     "name": "stdout",
     "output_type": "stream",
     "text": [
      "cc\n",
      "cpdb\n",
      "scr\n",
      "natmi\n",
      "icellnet\n",
      "italk\n",
      "nichenet\n",
      "scmlnet\n",
      "connectome\n",
      "cytotalk\n",
      "cellcall\n",
      "domino\n",
      "stlearn\n",
      "cpdb_v3\n",
      "giotto\n",
      "base_line\n"
     ]
    },
    {
     "data": {
      "image/png": "[encoded data removed]",
      "text/plain": [
       "<Figure size 180x432 with 1 Axes>"
      ]
     },
     "metadata": {
      "needs_background": "light"
     },
     "output_type": "display_data"
    }
   ],
   "source": [
    "project_base_dirs = [\n",
    "    './example_data/ST_A3_GSM4797918/'\n",
    "]\n",
    "\n",
    "tool_list = [\n",
    "    'cc', 'cpdb', 'scr', 'natmi', 'icellnet', 'italk',\n",
    "    'nichenet', 'scmlnet', 'connectome', 'cytotalk', 'cellcall',\n",
    "    'domino', 'stlearn', 'cpdb_v3', 'giotto', 'base_line'\n",
    "]\n",
    "\n",
    "for project_base_dir in project_base_dirs:\n",
    "    \n",
    "    #######################\n",
    "    # extract tool result #\n",
    "    #######################\n",
    "    # you can skip this step, if you have ran the codes above and had the tool_res_dic\n",
    "    \n",
    "    # tool_res_dic = extract_tool_results.extract_tool_res_dic(\n",
    "    #     project_base_dir, tool_list,\n",
    "    #     verbose=False\n",
    "    # )\n",
    "    \n",
    "    \n",
    "    ###################################################\n",
    "    # loading d_rat, tool_res_dic, celltype pair type #\n",
    "    ###################################################\n",
    "    d_rat_df = pd.read_csv('{}/data/ip_dis_sinkhorn2/ip_distance_all.tsv'.format(project_base_dir),\n",
    "                          sep='\\t', index_col = 0)\n",
    "\n",
    "    with open('{}/evaluation_result/pkl/tool_res_dic.pkl'.format(project_base_dir), 'rb') as f:\n",
    "        tool_res_dic = pkl.load(f)\n",
    "    with open('{}/data/pkl/ct_distype_sr.pkl'.format(project_base_dir), 'rb') as f:\n",
    "        ct_distype_sr = pkl.load(f)\n",
    "    \n",
    "    \n",
    "    ############################\n",
    "    # computing & plotting DES #\n",
    "    ############################\n",
    "    extract_tool_results.plot_es_workflow(\n",
    "        d_rat_df,\n",
    "        tool_res_dic,\n",
    "        ct_distype_sr,\n",
    "        tool_name_trans_dic,\n",
    "        '{}/evaluation_result/figure'.format(project_base_dir),\n",
    "        '{}/evaluation_result/pkl'.format(project_base_dir), \n",
    "        fig_save_flag=True, pkl_save_flag=True, save_tail_name='',\n",
    "        verbose=False,\n",
    "        color_diff=True,\n",
    "    )    \n"
   ]
  },
  {
   "cell_type": "code",
   "execution_count": null,
   "metadata": {},
   "outputs": [],
   "source": []
  },
  {
   "cell_type": "markdown",
   "metadata": {},
   "source": [
    "## using all the two samples in the human intestine dataset"
   ]
  },
  {
   "cell_type": "code",
   "execution_count": 8,
   "metadata": {
    "ExecuteTime": {
     "end_time": "2022-08-26T13:16:06.563092Z",
     "start_time": "2022-08-26T13:16:06.155498Z"
    }
   },
   "outputs": [
    {
     "data": {
      "image/png": "[encoded data removed]",
      "text/plain": [
       "<Figure size 180x432 with 1 Axes>"
      ]
     },
     "metadata": {
      "needs_background": "light"
     },
     "output_type": "display_data"
    }
   ],
   "source": [
    "res_dic_files = [\n",
    "    './example_data/ST_A3_GSM4797918/evaluation_result/pkl/tool_ES_dic_sinkhorn2.pkl',\n",
    "    './evaluation_result/Human_intestine/ST_A4_GSM4797919/tool_ES_dic_sinkhorn2.pkl'\n",
    "]\n",
    "\n",
    "out_dir = './evaluation_result'\n",
    "\n",
    "tool_list = [\n",
    "    'cc', 'cpdb', 'scr', 'natmi', 'icellnet', 'italk',\n",
    "    'nichenet', 'scmlnet', 'connectome', 'cytotalk', 'cellcall',\n",
    "    'domino', 'stlearn', 'cpdb_v3', 'giotto', 'base_line'\n",
    "]\n",
    "\n",
    "res_dic_list = []\n",
    "for tmp_f in res_dic_files:\n",
    "    with open(tmp_f,'rb') as f:\n",
    "        tmp_dic = pkl.load(f)\n",
    "    \n",
    "    # keep the tool number is the same between different samples\n",
    "    del_tools = [tool for tool in tmp_dic if tool not in tool_list]\n",
    "    for tool in del_tools:\n",
    "        del tmp_dic[tool]\n",
    "    res_dic_list.append(tmp_dic)\n",
    "\n",
    "# plotting DES boxplot for all samples\n",
    "extract_tool_results.plot_ES_multi_scatter(\n",
    "    res_dic_list, tool_name_trans_dic, \n",
    "    '{}/figure'.format(out_dir),\n",
    "    fontsize=16, fontsize_x=13, title_flag=False,\n",
    "    verbose=True, color_diff=True, fig_save_flag=False, figtail='_ls' \n",
    ")\n"
   ]
  }
 ],
 "metadata": {
  "kernelspec": {
   "display_name": "Python 3",
   "language": "python",
   "name": "python3"
  },
  "language_info": {
   "codemirror_mode": {
    "name": "ipython",
    "version": 3
   },
   "file_extension": ".py",
   "mimetype": "text/x-python",
   "name": "python",
   "nbconvert_exporter": "python",
   "pygments_lexer": "ipython3",
   "version": "3.7.3"
  },
  "toc": {
   "base_numbering": 1,
   "nav_menu": {},
   "number_sections": true,
   "sideBar": true,
   "skip_h1_title": false,
   "title_cell": "Table of Contents",
   "title_sidebar": "Contents",
   "toc_cell": false,
   "toc_position": {},
   "toc_section_display": true,
   "toc_window_display": false
  }
 },
 "nbformat": 4,
 "nbformat_minor": 4
}
